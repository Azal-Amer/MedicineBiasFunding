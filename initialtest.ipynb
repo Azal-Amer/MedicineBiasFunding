{
 "cells": [
  {
   "cell_type": "code",
   "execution_count": null,
   "metadata": {},
   "outputs": [],
   "source": [
    "import requests\n",
    "import json\n",
    "import pandas as pd\n",
    "# Baba's id\n",
    "testid=330626\n",
    "\n"
   ]
  },
  {
   "cell_type": "code",
   "execution_count": null,
   "metadata": {},
   "outputs": [],
   "source": [
    "# each year has a specific id that is passed as a token when requesting data on payments\n",
    "year_ids={\n",
    "    2015:'3526a13d-5d1c-5de1-bdc7-d298703270cf',\n",
    "    2016:'47fcc5d3-e7f7-5b49-870e-44f002f8cdcf',\n",
    "    2017:'eeca1e54-a309-5a62-8203-9b88de15f31f',\n",
    "    2018:'9dfd9047-64b2-5b52-8fe2-48f280859693',\n",
    "    2019:'3ac03130-dafb-5a7b-89fb-2b2790c05f26',\n",
    "    2020:'93d9435c-cf1f-56fb-83f4-71824fbdf8ec',\n",
    "    2021:'7dfb0fb2-e573-5448-a968-67899434ce8b'\n",
    "    }\n",
    "year_ids[2015]"
   ]
  },
  {
   "cell_type": "code",
   "execution_count": null,
   "metadata": {},
   "outputs": [],
   "source": [
    "# testid=13025\n",
    "# Above works for 2017\n",
    "# each year has a specific ID\n",
    "def doctorSearch(id):\n",
    "    paymentDump=[]\n",
    "    for year in range(2015,2022):\n",
    "        token=year_ids[year]\n",
    "        doctor_page_url=f'https://openpaymentsdata.cms.gov/api/1/datastore/query/{token}?keys=true&limit=100&offset=0&conditions%5B0%5D%5Bproperty%5D=covered_recipient_profile_id&conditions%5B0%5D%5Bvalue%5D={id}&conditions%5B0%5D%5Boperator%5D=%3D&sorts%5B0%5D%5Bproperty%5D=total&sorts%5B0%5D%5Border%5D=desc&properties%5B0%5D%5Bresource%5D=t&properties%5B0%5D%5Bproperty%5D=applicable_manufacturer_or_applicable_gpo_making_payment_name&properties%5B1%5D%5Bresource%5D=t&properties%5B1%5D%5Bproperty%5D=nature_of_payment_or_transfer_of_value&properties%5B2%5D%5Bresource%5D=t&properties%5B2%5D%5Bproperty%5D=date_of_payment&properties%5B3%5D%5Bresource%5D=t&properties%5B3%5D%5Bproperty%5D=applicable_manufacturer_or_applicable_gpo_making_payment_id&properties%5B4%5D%5Bresource%5D=t&properties%5B4%5D%5Bproperty%5D=record_id&properties%5B5%5D%5Balias%5D=total&properties%5B5%5D%5Bexpression%5D%5Boperator%5D=%2B&properties%5B5%5D%5Bexpression%5D%5Boperands%5D%5B0%5D%5Bresource%5D=t&properties%5B5%5D%5Bexpression%5D%5Boperands%5D%5B0%5D%5Bproperty%5D=total_amount_of_payment_usdollars&properties%5B5%5D%5Bexpression%5D%5Boperands%5D%5B1%5D=0'\n",
    "        loaded=json.loads(requests.get(doctor_page_url).text)\n",
    "        if 'status' not in loaded:\n",
    "            paymentDump =paymentDump + loaded['results']\n",
    "    # create a dataframe out of the payments\n",
    "    return pd.DataFrame.from_dict(paymentDump)\n"
   ]
  },
  {
   "cell_type": "markdown",
   "metadata": {},
   "source": [
    "- the cache id isn't device dependent"
   ]
  },
  {
   "cell_type": "code",
   "execution_count": null,
   "metadata": {},
   "outputs": [],
   "source": [
    "doctorSearch(460800)"
   ]
  },
  {
   "cell_type": "code",
   "execution_count": null,
   "metadata": {},
   "outputs": [],
   "source": [
    "zipcode = 75227\n",
    "zipcode_URL=f'https://openpaymentsdata.cms.gov/api/1/datastore/query/d0ca4ed9-0a67-5e9e-9a08-fab7b975d61c?keys=true&limit=100&offset=0&conditions%5B0%5D%5Bproperty%5D=covered_recipient_profile_zipcode&conditions%5B0%5D%5Bvalue%5D={zipcode}%25&conditions%5B0%5D%5Boperator%5D=LIKE&sorts%5B0%5D%5Bproperty%5D=covered_recipient_profile_last_name&sorts%5B0%5D%5Border%5D=asc&sorts%5B1%5D%5Bproperty%5D=covered_recipient_profile_first_name&sorts%5B1%5D%5Border%5D=asc&sorts%5B2%5D%5Bproperty%5D=covered_recipient_profile_middle_name&sorts%5B2%5D%5Border%5D=asc'\n",
    "dump = json.loads(requests.get(zipcode_URL).text)\n",
    "id = dump['results'][2]['covered_recipient_profile_id']\n",
    "print(dump)"
   ]
  },
  {
   "cell_type": "code",
   "execution_count": null,
   "metadata": {},
   "outputs": [],
   "source": [
    "limit = 500\n",
    "state ='TX'\n",
    "doctorDF=0\n",
    "for i in range(202):\n",
    "    offset =i*limit\n",
    "    doctorListURL=f'https://openpaymentsdata.cms.gov/api/1/datastore/query/d0ca4ed9-0a67-5e9e-9a08-fab7b975d61c?keys=true&limit={limit}&offset={offset}&conditions%5B0%5D%5Bproperty%5D=covered_recipient_profile_state&conditions%5B0%5D%5Bvalue%5D={state}&conditions%5B0%5D%5Boperator%5D=%3D&sorts%5B0%5D%5Bproperty%5D=covered_recipient_profile_last_name&sorts%5B0%5D%5Border%5D=asc&sorts%5B1%5D%5Bproperty%5D=covered_recipient_profile_first_name&sorts%5B1%5D%5Border%5D=asc&sorts%5B2%5D%5Bproperty%5D=covered_recipient_profile_middle_name&sorts%5B2%5D%5Border%5D=asc'\n",
    "    newDoctorList=(json.loads(requests.get(doctorListURL).text))['results']\n",
    "    newDF=pd.DataFrame.from_dict(newDoctorList)[['covered_recipient_profile_primary_specialty','covered_recipient_profile_id','covered_recipient_npi','covered_recipient_profile_zipcode','covered_recipient_profile_first_name','covered_recipient_profile_last_name','covered_recipient_profile_type']]\n",
    "    if i == 0:\n",
    "        doctorDF = newDF\n",
    "    else:\n",
    "        doctorDF=doctorDF.append(newDF)"
   ]
  },
  {
   "cell_type": "code",
   "execution_count": null,
   "metadata": {},
   "outputs": [],
   "source": [
    "doctorDF.reset_index(inplace = True)\n",
    "del doctorDF['index']\n",
    "doctorDF"
   ]
  },
  {
   "cell_type": "code",
   "execution_count": null,
   "metadata": {},
   "outputs": [],
   "source": [
    "doctorDF.reset_index(inplace = True)\n",
    "del doctorDF['index']\n",
    "doctorDF.to_csv('Texas Doctor Data.csv')"
   ]
  }
 ],
 "metadata": {
  "interpreter": {
   "hash": "73e99867994bed8ab4e3fb143e1a9c0a09df8739f443cc6ab33630cda57eb163"
  },
  "kernelspec": {
   "display_name": "Python 3.9.6 64-bit",
   "language": "python",
   "name": "python3"
  },
  "language_info": {
   "codemirror_mode": {
    "name": "ipython",
    "version": 3
   },
   "file_extension": ".py",
   "mimetype": "text/x-python",
   "name": "python",
   "nbconvert_exporter": "python",
   "pygments_lexer": "ipython3",
   "version": "3.9.6"
  },
  "orig_nbformat": 4
 },
 "nbformat": 4,
 "nbformat_minor": 2
}
