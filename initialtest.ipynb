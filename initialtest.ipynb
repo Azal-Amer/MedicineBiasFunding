{
 "cells": [
  {
   "cell_type": "code",
   "execution_count": null,
   "metadata": {},
   "outputs": [],
   "source": [
    "import requests\n",
    "import json\n",
    "import pandas as pd\n",
    "# Baba's id\n",
    "testid=330626\n",
    "\n"
   ]
  },
  {
   "cell_type": "code",
   "execution_count": null,
   "metadata": {},
   "outputs": [],
   "source": [
    "# testid=13025\n",
    "# Above works for 2017\n",
    "# each year has a specific ID\n",
    "\n"
   ]
  },
  {
   "cell_type": "markdown",
   "metadata": {},
   "source": [
    "# Obtaining id's"
   ]
  },
  {
   "cell_type": "markdown",
   "metadata": {},
   "source": [
    "- the cache id isn't device dependent"
   ]
  },
  {
   "cell_type": "code",
   "execution_count": null,
   "metadata": {},
   "outputs": [],
   "source": [
    "zipcode = 75227\n",
    "zipcode_URL=f'https://openpaymentsdata.cms.gov/api/1/datastore/query/d0ca4ed9-0a67-5e9e-9a08-fab7b975d61c?keys=true&limit=100&offset=0&conditions%5B0%5D%5Bproperty%5D=covered_recipient_profile_zipcode&conditions%5B0%5D%5Bvalue%5D={zipcode}%25&conditions%5B0%5D%5Boperator%5D=LIKE&sorts%5B0%5D%5Bproperty%5D=covered_recipient_profile_last_name&sorts%5B0%5D%5Border%5D=asc&sorts%5B1%5D%5Bproperty%5D=covered_recipient_profile_first_name&sorts%5B1%5D%5Border%5D=asc&sorts%5B2%5D%5Bproperty%5D=covered_recipient_profile_middle_name&sorts%5B2%5D%5Border%5D=asc'\n",
    "dump = json.loads(requests.get(zipcode_URL).text)\n",
    "id = dump['results'][2]['covered_recipient_profile_id']\n",
    "print(dump)"
   ]
  },
  {
   "cell_type": "code",
   "execution_count": null,
   "metadata": {},
   "outputs": [],
   "source": [
    "limit = 500\n",
    "state ='TX'\n",
    "doctorDF=0\n",
    "for i in range(202):\n",
    "    offset =i*limit\n",
    "    doctorListURL=f'https://openpaymentsdata.cms.gov/api/1/datastore/query/d0ca4ed9-0a67-5e9e-9a08-fab7b975d61c?keys=true&limit={limit}&offset={offset}&conditions%5B0%5D%5Bproperty%5D=covered_recipient_profile_state&conditions%5B0%5D%5Bvalue%5D={state}&conditions%5B0%5D%5Boperator%5D=%3D&sorts%5B0%5D%5Bproperty%5D=covered_recipient_profile_last_name&sorts%5B0%5D%5Border%5D=asc&sorts%5B1%5D%5Bproperty%5D=covered_recipient_profile_first_name&sorts%5B1%5D%5Border%5D=asc&sorts%5B2%5D%5Bproperty%5D=covered_recipient_profile_middle_name&sorts%5B2%5D%5Border%5D=asc'\n",
    "    newDoctorList=(json.loads(requests.get(doctorListURL).text))['results']\n",
    "    newDF=pd.DataFrame.from_dict(newDoctorList)[['covered_recipient_profile_primary_specialty','covered_recipient_profile_id','covered_recipient_npi','covered_recipient_profile_zipcode','covered_recipient_profile_first_name','covered_recipient_profile_last_name','covered_recipient_profile_type']]\n",
    "    if i == 0:\n",
    "        doctorDF = newDF\n",
    "    else:\n",
    "        doctorDF=doctorDF.append(newDF)"
   ]
  },
  {
   "cell_type": "code",
   "execution_count": null,
   "metadata": {},
   "outputs": [],
   "source": [
    "doctorDF.reset_index(inplace = True)\n",
    "del doctorDF['index']\n",
    "doctorDF"
   ]
  },
  {
   "cell_type": "code",
   "execution_count": null,
   "metadata": {},
   "outputs": [],
   "source": [
    "doctorDF.reset_index(inplace = True)\n",
    "del doctorDF['index']\n",
    "doctorDF.to_csv('Texas Doctor Data.csv')"
   ]
  },
  {
   "cell_type": "markdown",
   "metadata": {},
   "source": [
    "# Getting funding Sources"
   ]
  },
  {
   "cell_type": "code",
   "execution_count": null,
   "metadata": {},
   "outputs": [],
   "source": [
    "# each year has a specific id that is passed as a token when requesting data on payments\n",
    "year_ids={\n",
    "    2015:'3526a13d-5d1c-5de1-bdc7-d298703270cf',\n",
    "    2016:'47fcc5d3-e7f7-5b49-870e-44f002f8cdcf',\n",
    "    2017:'eeca1e54-a309-5a62-8203-9b88de15f31f',\n",
    "    2018:'9dfd9047-64b2-5b52-8fe2-48f280859693',\n",
    "    2019:'3ac03130-dafb-5a7b-89fb-2b2790c05f26',\n",
    "    2020:'93d9435c-cf1f-56fb-83f4-71824fbdf8ec',\n",
    "    2021:'7dfb0fb2-e573-5448-a968-67899434ce8b'\n",
    "    }\n"
   ]
  },
  {
   "cell_type": "code",
   "execution_count": 102,
   "metadata": {},
   "outputs": [
    {
     "data": {
      "text/html": [
       "<div>\n",
       "<style scoped>\n",
       "    .dataframe tbody tr th:only-of-type {\n",
       "        vertical-align: middle;\n",
       "    }\n",
       "\n",
       "    .dataframe tbody tr th {\n",
       "        vertical-align: top;\n",
       "    }\n",
       "\n",
       "    .dataframe thead th {\n",
       "        text-align: right;\n",
       "    }\n",
       "</style>\n",
       "<table border=\"1\" class=\"dataframe\">\n",
       "  <thead>\n",
       "    <tr style=\"text-align: right;\">\n",
       "      <th></th>\n",
       "      <th>applicable_manufacturer_or_applicable_gpo_making_payment_name</th>\n",
       "      <th>nature_of_payment_or_transfer_of_value</th>\n",
       "      <th>date_of_payment</th>\n",
       "      <th>applicable_manufacturer_or_applicable_gpo_making_payment_id</th>\n",
       "      <th>record_id</th>\n",
       "      <th>total</th>\n",
       "      <th>covered_recipient_profile_primary_specialty</th>\n",
       "      <th>covered_recipient_profile_id</th>\n",
       "      <th>covered_recipient_profile_zipcode</th>\n",
       "    </tr>\n",
       "  </thead>\n",
       "  <tbody>\n",
       "    <tr>\n",
       "      <th>0</th>\n",
       "      <td>Amgen Inc.</td>\n",
       "      <td>Food and Beverage</td>\n",
       "      <td>10/20/2021</td>\n",
       "      <td>100000000203</td>\n",
       "      <td>826482911</td>\n",
       "      <td>124.45</td>\n",
       "      <td>Physician Assistants &amp; Advanced Practice Nursi...</td>\n",
       "      <td>11047303</td>\n",
       "      <td>78666</td>\n",
       "    </tr>\n",
       "    <tr>\n",
       "      <th>1</th>\n",
       "      <td>AbbVie Inc.</td>\n",
       "      <td>Food and Beverage</td>\n",
       "      <td>07/13/2021</td>\n",
       "      <td>100000000204</td>\n",
       "      <td>796311671</td>\n",
       "      <td>99.67</td>\n",
       "      <td>Physician Assistants &amp; Advanced Practice Nursi...</td>\n",
       "      <td>11047303</td>\n",
       "      <td>78666</td>\n",
       "    </tr>\n",
       "    <tr>\n",
       "      <th>2</th>\n",
       "      <td>SI-BONE, INC.</td>\n",
       "      <td>Food and Beverage</td>\n",
       "      <td>01/12/2021</td>\n",
       "      <td>100000011102</td>\n",
       "      <td>845535173</td>\n",
       "      <td>96.6</td>\n",
       "      <td>Physician Assistants &amp; Advanced Practice Nursi...</td>\n",
       "      <td>11047303</td>\n",
       "      <td>78666</td>\n",
       "    </tr>\n",
       "    <tr>\n",
       "      <th>3</th>\n",
       "      <td>Genentech USA, Inc.</td>\n",
       "      <td>Food and Beverage</td>\n",
       "      <td>10/12/2021</td>\n",
       "      <td>100000000226</td>\n",
       "      <td>836026437</td>\n",
       "      <td>71.38</td>\n",
       "      <td>Physician Assistants &amp; Advanced Practice Nursi...</td>\n",
       "      <td>11047303</td>\n",
       "      <td>78666</td>\n",
       "    </tr>\n",
       "  </tbody>\n",
       "</table>\n",
       "</div>"
      ],
      "text/plain": [
       "  applicable_manufacturer_or_applicable_gpo_making_payment_name  \\\n",
       "0                                         Amgen Inc.              \n",
       "1                                        AbbVie Inc.              \n",
       "2                                      SI-BONE, INC.              \n",
       "3                                Genentech USA, Inc.              \n",
       "\n",
       "  nature_of_payment_or_transfer_of_value date_of_payment  \\\n",
       "0                      Food and Beverage      10/20/2021   \n",
       "1                      Food and Beverage      07/13/2021   \n",
       "2                      Food and Beverage      01/12/2021   \n",
       "3                      Food and Beverage      10/12/2021   \n",
       "\n",
       "  applicable_manufacturer_or_applicable_gpo_making_payment_id  record_id  \\\n",
       "0                                       100000000203           826482911   \n",
       "1                                       100000000204           796311671   \n",
       "2                                       100000011102           845535173   \n",
       "3                                       100000000226           836026437   \n",
       "\n",
       "    total        covered_recipient_profile_primary_specialty  \\\n",
       "0  124.45  Physician Assistants & Advanced Practice Nursi...   \n",
       "1   99.67  Physician Assistants & Advanced Practice Nursi...   \n",
       "2    96.6  Physician Assistants & Advanced Practice Nursi...   \n",
       "3   71.38  Physician Assistants & Advanced Practice Nursi...   \n",
       "\n",
       "  covered_recipient_profile_id covered_recipient_profile_zipcode  \n",
       "0                     11047303                             78666  \n",
       "1                     11047303                             78666  \n",
       "2                     11047303                             78666  \n",
       "3                     11047303                             78666  "
      ]
     },
     "execution_count": 102,
     "metadata": {},
     "output_type": "execute_result"
    }
   ],
   "source": [
    "def doctorSearch(df):\n",
    "    df=df[['covered_recipient_profile_primary_specialty','covered_recipient_profile_id','covered_recipient_profile_zipcode']]\n",
    "    df[['covered_recipient_profile_zipcode']]=df['covered_recipient_profile_zipcode'].split('-')[0]\n",
    "\n",
    "    id=df['covered_recipient_profile_id']\n",
    "    paymentDump=[]\n",
    "    for year in range(2015,2022):\n",
    "        token=year_ids[year]\n",
    "        doctor_page_url=f'https://openpaymentsdata.cms.gov/api/1/datastore/query/{token}?keys=true&limit=100&offset=0&conditions%5B0%5D%5Bproperty%5D=covered_recipient_profile_id&conditions%5B0%5D%5Bvalue%5D={id}&conditions%5B0%5D%5Boperator%5D=%3D&sorts%5B0%5D%5Bproperty%5D=total&sorts%5B0%5D%5Border%5D=desc&properties%5B0%5D%5Bresource%5D=t&properties%5B0%5D%5Bproperty%5D=applicable_manufacturer_or_applicable_gpo_making_payment_name&properties%5B1%5D%5Bresource%5D=t&properties%5B1%5D%5Bproperty%5D=nature_of_payment_or_transfer_of_value&properties%5B2%5D%5Bresource%5D=t&properties%5B2%5D%5Bproperty%5D=date_of_payment&properties%5B3%5D%5Bresource%5D=t&properties%5B3%5D%5Bproperty%5D=applicable_manufacturer_or_applicable_gpo_making_payment_id&properties%5B4%5D%5Bresource%5D=t&properties%5B4%5D%5Bproperty%5D=record_id&properties%5B5%5D%5Balias%5D=total&properties%5B5%5D%5Bexpression%5D%5Boperator%5D=%2B&properties%5B5%5D%5Bexpression%5D%5Boperands%5D%5B0%5D%5Bresource%5D=t&properties%5B5%5D%5Bexpression%5D%5Boperands%5D%5B0%5D%5Bproperty%5D=total_amount_of_payment_usdollars&properties%5B5%5D%5Bexpression%5D%5Boperands%5D%5B1%5D=0'\n",
    "        loaded=json.loads(requests.get(doctor_page_url).text)\n",
    "        if 'status' not in loaded:\n",
    "            paymentDump =paymentDump + loaded['results']\n",
    "    # create a dataframe out of the payments\n",
    "    # I need to copy all the data from the df dataframe across the rows of the new dataframe\n",
    "    paymentDF=pd.DataFrame.from_dict(paymentDump)\n",
    "\n",
    "    paymentDF[df.index]=df.values\n",
    "    # cloning the data from the doctor's general info across the payment dataframe\n",
    "    # combinedDF=pd.merge(df,paymentDF,how='right')\n",
    "\n",
    "    return paymentDF\n",
    "\n"
   ]
  },
  {
   "cell_type": "code",
   "execution_count": 109,
   "metadata": {},
   "outputs": [
    {
     "name": "stdout",
     "output_type": "stream",
     "text": [
      "0\n"
     ]
    }
   ],
   "source": [
    "# for doctor in doctorIDs['covered_recipient_profile_id']:\n",
    "#     doctorSearch(doctor)\n",
    "doctorIDs=pd.read_csv('Texas Doctor Data.csv')\n",
    "\n",
    "recordsDF = ''\n",
    "for i in range(0,5):\n",
    "    if i%100==0:\n",
    "        print(i)\n",
    "    if i==0:\n",
    "        recordsDF = doctorSearch(doctorIDs.loc[i])\n",
    "    else:\n",
    "        recordsDF=recordsDF.append(doctorSearch(doctorIDs.loc[i]))\n",
    "    \n",
    "\n",
    "# The new combined dataframe should mark the transactions, their source zipcode,  their professions,and ids\n",
    "\n",
    "\n"
   ]
  },
  {
   "cell_type": "code",
   "execution_count": 110,
   "metadata": {},
   "outputs": [],
   "source": [
    "recordsDF\n",
    "recordsDF.to_csv('Texas Records Data.csv')"
   ]
  },
  {
   "cell_type": "markdown",
   "metadata": {},
   "source": []
  }
 ],
 "metadata": {
  "interpreter": {
   "hash": "73e99867994bed8ab4e3fb143e1a9c0a09df8739f443cc6ab33630cda57eb163"
  },
  "kernelspec": {
   "display_name": "Python 3.9.6 64-bit",
   "language": "python",
   "name": "python3"
  },
  "language_info": {
   "codemirror_mode": {
    "name": "ipython",
    "version": 3
   },
   "file_extension": ".py",
   "mimetype": "text/x-python",
   "name": "python",
   "nbconvert_exporter": "python",
   "pygments_lexer": "ipython3",
   "version": "3.9.6"
  },
  "orig_nbformat": 4
 },
 "nbformat": 4,
 "nbformat_minor": 2
}
