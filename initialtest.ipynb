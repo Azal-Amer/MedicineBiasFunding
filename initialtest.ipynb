{
 "cells": [
  {
   "cell_type": "code",
   "execution_count": 2,
   "metadata": {},
   "outputs": [],
   "source": [
    "import requests\n",
    "import json\n",
    "import pandas as pd\n",
    "# Baba's id\n",
    "testid=330626\n",
    "\n"
   ]
  },
  {
   "cell_type": "code",
   "execution_count": null,
   "metadata": {},
   "outputs": [],
   "source": [
    "# testid=13025\n",
    "# Above works for 2017\n",
    "# each year has a specific ID\n",
    "\n"
   ]
  },
  {
   "cell_type": "markdown",
   "metadata": {},
   "source": [
    "# Obtaining id's"
   ]
  },
  {
   "cell_type": "markdown",
   "metadata": {},
   "source": [
    "- the cache id isn't device dependent"
   ]
  },
  {
   "cell_type": "code",
   "execution_count": null,
   "metadata": {},
   "outputs": [],
   "source": [
    "zipcode = 75227\n",
    "zipcode_URL=f'https://openpaymentsdata.cms.gov/api/1/datastore/query/d0ca4ed9-0a67-5e9e-9a08-fab7b975d61c?keys=true&limit=100&offset=0&conditions%5B0%5D%5Bproperty%5D=covered_recipient_profile_zipcode&conditions%5B0%5D%5Bvalue%5D={zipcode}%25&conditions%5B0%5D%5Boperator%5D=LIKE&sorts%5B0%5D%5Bproperty%5D=covered_recipient_profile_last_name&sorts%5B0%5D%5Border%5D=asc&sorts%5B1%5D%5Bproperty%5D=covered_recipient_profile_first_name&sorts%5B1%5D%5Border%5D=asc&sorts%5B2%5D%5Bproperty%5D=covered_recipient_profile_middle_name&sorts%5B2%5D%5Border%5D=asc'\n",
    "dump = json.loads(requests.get(zipcode_URL).text)\n",
    "id = dump['results'][2]['covered_recipient_profile_id']\n",
    "print(dump)"
   ]
  },
  {
   "cell_type": "code",
   "execution_count": null,
   "metadata": {},
   "outputs": [],
   "source": [
    "limit = 500\n",
    "state ='TX'\n",
    "doctorDF=0\n",
    "for i in range(202):\n",
    "    offset =i*limit\n",
    "    doctorListURL=f'https://openpaymentsdata.cms.gov/api/1/datastore/query/d0ca4ed9-0a67-5e9e-9a08-fab7b975d61c?keys=true&limit={limit}&offset={offset}&conditions%5B0%5D%5Bproperty%5D=covered_recipient_profile_state&conditions%5B0%5D%5Bvalue%5D={state}&conditions%5B0%5D%5Boperator%5D=%3D&sorts%5B0%5D%5Bproperty%5D=covered_recipient_profile_last_name&sorts%5B0%5D%5Border%5D=asc&sorts%5B1%5D%5Bproperty%5D=covered_recipient_profile_first_name&sorts%5B1%5D%5Border%5D=asc&sorts%5B2%5D%5Bproperty%5D=covered_recipient_profile_middle_name&sorts%5B2%5D%5Border%5D=asc'\n",
    "    newDoctorList=(json.loads(requests.get(doctorListURL).text))['results']\n",
    "    newDF=pd.DataFrame.from_dict(newDoctorList)[['covered_recipient_profile_primary_specialty','covered_recipient_profile_id','covered_recipient_npi','covered_recipient_profile_zipcode','covered_recipient_profile_first_name','covered_recipient_profile_last_name','covered_recipient_profile_type']]\n",
    "    if i == 0:\n",
    "        doctorDF = newDF\n",
    "    else:\n",
    "        doctorDF=doctorDF.append(newDF)"
   ]
  },
  {
   "cell_type": "code",
   "execution_count": null,
   "metadata": {},
   "outputs": [],
   "source": [
    "doctorDF.reset_index(inplace = True)\n",
    "del doctorDF['index']\n",
    "doctorDF"
   ]
  },
  {
   "cell_type": "code",
   "execution_count": null,
   "metadata": {},
   "outputs": [],
   "source": [
    "doctorDF.reset_index(inplace = True)\n",
    "del doctorDF['index']\n",
    "doctorDF.to_csv('Texas Doctor Data.csv')"
   ]
  },
  {
   "cell_type": "markdown",
   "metadata": {},
   "source": [
    "# Getting funding Sources"
   ]
  },
  {
   "cell_type": "code",
   "execution_count": null,
   "metadata": {},
   "outputs": [],
   "source": [
    "# each year has a specific id that is passed as a token when requesting data on payments\n",
    "year_ids={\n",
    "    2015:'3526a13d-5d1c-5de1-bdc7-d298703270cf',\n",
    "    2016:'47fcc5d3-e7f7-5b49-870e-44f002f8cdcf',\n",
    "    2017:'eeca1e54-a309-5a62-8203-9b88de15f31f',\n",
    "    2018:'9dfd9047-64b2-5b52-8fe2-48f280859693',\n",
    "    2019:'3ac03130-dafb-5a7b-89fb-2b2790c05f26',\n",
    "    2020:'93d9435c-cf1f-56fb-83f4-71824fbdf8ec',\n",
    "    2021:'7dfb0fb2-e573-5448-a968-67899434ce8b'\n",
    "    }\n"
   ]
  },
  {
   "cell_type": "code",
   "execution_count": 2,
   "metadata": {},
   "outputs": [],
   "source": [
    "def doctorSearch(df):\n",
    "    df=df[['covered_recipient_profile_primary_specialty','covered_recipient_profile_id','covered_recipient_profile_zipcode']]\n",
    "    df[['covered_recipient_profile_zipcode']]=df['covered_recipient_profile_zipcode'].split('-')[0]\n",
    "\n",
    "    id=df['covered_recipient_profile_id']\n",
    "    paymentDump=[]\n",
    "    for year in range(2015,2022):\n",
    "        token=year_ids[year]\n",
    "        doctor_page_url=f'https://openpaymentsdata.cms.gov/api/1/datastore/query/{token}?keys=true&limit=100&offset=0&conditions%5B0%5D%5Bproperty%5D=covered_recipient_profile_id&conditions%5B0%5D%5Bvalue%5D={id}&conditions%5B0%5D%5Boperator%5D=%3D&sorts%5B0%5D%5Bproperty%5D=total&sorts%5B0%5D%5Border%5D=desc&properties%5B0%5D%5Bresource%5D=t&properties%5B0%5D%5Bproperty%5D=applicable_manufacturer_or_applicable_gpo_making_payment_name&properties%5B1%5D%5Bresource%5D=t&properties%5B1%5D%5Bproperty%5D=nature_of_payment_or_transfer_of_value&properties%5B2%5D%5Bresource%5D=t&properties%5B2%5D%5Bproperty%5D=date_of_payment&properties%5B3%5D%5Bresource%5D=t&properties%5B3%5D%5Bproperty%5D=applicable_manufacturer_or_applicable_gpo_making_payment_id&properties%5B4%5D%5Bresource%5D=t&properties%5B4%5D%5Bproperty%5D=record_id&properties%5B5%5D%5Balias%5D=total&properties%5B5%5D%5Bexpression%5D%5Boperator%5D=%2B&properties%5B5%5D%5Bexpression%5D%5Boperands%5D%5B0%5D%5Bresource%5D=t&properties%5B5%5D%5Bexpression%5D%5Boperands%5D%5B0%5D%5Bproperty%5D=total_amount_of_payment_usdollars&properties%5B5%5D%5Bexpression%5D%5Boperands%5D%5B1%5D=0'\n",
    "        # doctor_page_url=f'https://openpaymentsdata.cms.gov/api/1/datastore/query/{token}?keys=true&limit=100&offset=0&conditions[0][property]=covered_recipient_profile_id&conditions[0][value]={id}&conditions[0][operator]==&sorts[0][property]=total&sorts[0][order]=desc&properties[0][resource]=t&properties[0][property]=applicable_manufacturer_or_applicable_gpo_making_payment_name&properties[1][resource]=t&properties[1][property]=nature_of_payment_or_transfer_of_value&properties[2][resource]=t&properties[2][property]=applicable_manufacturer_or_applicable_gpo_making_payment_id&properties[3][alias]=total&properties[3][expression][operator]=+&properties[3][expression][operands][0][resource]=t&properties[3][expression][operands][0][property]=total_amount_of_payment_usdollars&properties[3][expression][operands][1]=0'\n",
    "        loaded=json.loads(requests.get(doctor_page_url).text)\n",
    "        if 'status' not in loaded:\n",
    "            paymentDump =paymentDump + loaded['results']\n",
    "    # create a dataframe out of the payments\n",
    "    # I need to copy all the data from the df dataframe across the rows of the new dataframe\n",
    "    paymentDF=pd.DataFrame.from_dict(paymentDump)\n",
    "\n",
    "    paymentDF[df.index]=df.values\n",
    "    # cloning the data from the doctor's general info across the payment dataframe\n",
    "    # combinedDF=pd.merge(df,paymentDF,how='right')\n",
    "\n",
    "    return paymentDF\n",
    "\n"
   ]
  },
  {
   "cell_type": "code",
   "execution_count": null,
   "metadata": {},
   "outputs": [],
   "source": [
    "doctorSearch(doctorIDs.loc[2])"
   ]
  },
  {
   "cell_type": "code",
   "execution_count": 3,
   "metadata": {},
   "outputs": [],
   "source": [
    "doctorIDs=pd.read_csv('Texas Doctor Data.csv')\n",
    "doctorIDs.drop(doctorIDs.columns[[0]],axis=1,inplace=True)\n",
    "zipcodeList=doctorIDs['covered_recipient_profile_zipcode'].unique().tolist()\n",
    "fails = 0\n",
    "# for zipcode in zipcodeList:\n",
    "#     mask =doctorIDs[doctorIDs['covered_recipient_profile_zipcode']==zipcode]\n",
    "#     pings=mask[mask['covered_recipient_profile_primary_specialty'].str.contains(r'Family|Pediatrics',na=False)].count()[0]\n",
    "#     if pings==0:\n",
    "#         fails+=1\n",
    "#         print(mask['covered_recipient_profile_primary_specialty'])\n",
    "# print(fails)\n",
    "# print(len(zipcodeList))\n",
    "# Ditching sorting by physician type to avoid introducing bias and imbalence into data"
   ]
  },
  {
   "cell_type": "code",
   "execution_count": 26,
   "metadata": {},
   "outputs": [],
   "source": [
    "import random\n",
    "sampleDF = pd.DataFrame()\n",
    "sampledZipcodes = random.sample(zipcodeList,k=250)\n",
    "for zipcode in sampledZipcodes:\n",
    "    mask =doctorIDs[doctorIDs['covered_recipient_profile_zipcode']==zipcode]\n",
    "    if mask.count()[0]>=3:\n",
    "        mask = mask.sample(n=3)\n",
    "    \n",
    "    sampleDF = sampleDF.append(mask,ignore_index=True)\n",
    "\n",
    "\n",
    "sampleDF\n",
    "# Capped 3 doctors max per zipcode, 250 zipcodes picked at random\n",
    "sampleDF.to_csv('SampledDoctorData.csv')"
   ]
  },
  {
   "cell_type": "code",
   "execution_count": 9,
   "metadata": {},
   "outputs": [
    {
     "data": {
      "text/html": [
       "<div>\n",
       "<style scoped>\n",
       "    .dataframe tbody tr th:only-of-type {\n",
       "        vertical-align: middle;\n",
       "    }\n",
       "\n",
       "    .dataframe tbody tr th {\n",
       "        vertical-align: top;\n",
       "    }\n",
       "\n",
       "    .dataframe thead th {\n",
       "        text-align: right;\n",
       "    }\n",
       "</style>\n",
       "<table border=\"1\" class=\"dataframe\">\n",
       "  <thead>\n",
       "    <tr style=\"text-align: right;\">\n",
       "      <th></th>\n",
       "    </tr>\n",
       "  </thead>\n",
       "  <tbody>\n",
       "  </tbody>\n",
       "</table>\n",
       "</div>"
      ],
      "text/plain": [
       "Empty DataFrame\n",
       "Columns: []\n",
       "Index: []"
      ]
     },
     "execution_count": 9,
     "metadata": {},
     "output_type": "execute_result"
    }
   ],
   "source": [
    "sampleDF"
   ]
  },
  {
   "cell_type": "code",
   "execution_count": 97,
   "metadata": {},
   "outputs": [
    {
     "data": {
      "text/plain": [
       "22"
      ]
     },
     "execution_count": 97,
     "metadata": {},
     "output_type": "execute_result"
    }
   ],
   "source": [
    "doctorIDs\n",
    "# Get rows with a certain zipcode in them\n",
    "# From those rows only take doctors with a certain specialty, ideally gen practice\n",
    "mask =doctorIDs[doctorIDs['covered_recipient_profile_zipcode']==75224]\n",
    "mask[mask['covered_recipient_profile_primary_specialty'].str.contains(r'Family|Pediatrics',na=False)].count()[0]"
   ]
  },
  {
   "cell_type": "code",
   "execution_count": 167,
   "metadata": {},
   "outputs": [],
   "source": []
  },
  {
   "cell_type": "code",
   "execution_count": 51,
   "metadata": {},
   "outputs": [
    {
     "data": {
      "text/plain": [
       "dict_keys([77030, 78229, 76104, 75390, 75231, 75246, 75093, 76508, 75240, 77555, 78234, 78705, 75701, 75235, 77024, 77042, 79106, 78258, 77479, 75230, 79902, 77054, 77598, 77380, 77074, 78731, 78539, 78759, 78411, 75034, 78550, 78758, 78207, 76712, 75503, 77478, 77070, 79410, 79905, 78236, 76132, 77304, 78746, 78216, 76107, 78240, 75024, 78613, 78503, 78130, 77025, 77090, 75075, 78681, 77339, 79430, 77401, 77584, 77802, 77494, 78665, 77008, 78041, 77384, 78251, 77845, 76063, 76092, 76051, 75013, 78745, 78701, 75605, 75601, 77450, 77429, 79761, 79601, 77027, 78404, 77521, 79912, 77338, 78212, 78704, 78504, 75204, 77375, 78723, 75080, 76012, 77057, 75203, 77004, 77379, 79701, 75904, 78028, 77702, 78414, 76301, 77504, 79936, 76028, 75208, 76201, 79424, 75237, 76903, 75070, 75150, 77065, 76109, 77002, 79925, 77901, 75071, 77098, 78232, 75234, 76015, 75028, 77089, 79606, 75032, 75243, 75035, 78666, 75082, 75061, 78756, 75010, 75219, 75251, 75703, 78217, 77005, 77058, 76544, 77082, 77055, 75042, 76022, 77036, 75039, 77701, 78501, 78572, 77573, 77079, 75020, 75702, 75063, 78215, 78664, 76502, 76210, 77459, 75216, 75038, 76248, 78209, 75225, 76904, 78233, 75092, 76086, 78205, 76244, 77433, 75019, 78230, 75115, 78596, 76017, 76014, 75460, 75165, 77063, 78405, 79415, 76180, 76021, 77706, 77566, 75069, 76549, 76034, 78412, 76710, 75062, 78006, 75965, 78520, 78640, 77505, 76504, 77469, 77006, 75023, 78249, 78628, 75090, 75206, 77081, 78738, 78727, 76234, 78155, 78749, 77015, 77546, 75033, 77904, 75401, 76033, 77204, 79920, 79763, 75149, 75218, 78526, 78626, 78750, 77084, 75708, 77056, 77381, 78224, 77007, 77094, 78654, 77581, 77340, 78624, 76054, 78757, 76308, 76801, 77095, 78660, 75006, 75088, 75001, 75801, 76048, 79119, 79109, 76707, 75040, 78521, 77077, 75057, 75205, 77072, 75067, 79407, 77346, 75052, 75081, 78223, 79705, 78735, 75087, 78154, 77026, 77382, 79707, 76116, 75025, 77449, 77069, 78577, 76013, 75254, 75248, 76401, 75104, 75455, 76135, 76548, 78238, 76137, 78213, 75751, 78221, 79124, 75247, 75214, 77840, 79416, 77076, 77642, 75022, 78751, 75244, 78753, 75074, 75044, 78748, 77407, 77591, 78602, 78228, 77385, 79938, 75051, 78214, 77096, 77034, 76310, 78231, 78703, 76102, 75078, 78413, 77018, 77047, 77627, 76133, 75110, 77351, 75961, 79423, 75043, 75201, 79935, 79720, 75670, 78045, 78201, 79915, 78218, 75211, 79762, 76011, 75226, 77386, 77707, 76110, 77833, 78702, 75284, 76018, 77414, 75224, 75501, 77043, 77327, 77083, 75007, 77014, 75116, 78332, 76040, 75077, 75056, 75482, 77021, 78852, 75098, 75126, 75287, 75002, 76065, 76543, 77388, 78734, 75766, 78247, 77087, 78248, 76302, 76205, 75220, 77354, 77511, 75041, 76708, 76542, 79413, 77023, 75182, 78752, 78712, 78840, 77019, 77550, 76020, 75252, 78211, 77630, 76240, 78741, 79903, 78641, 75217, 78259, 75160, 77520, 79605, 78257, 78717, 77640, 78220, 75119, 77389, 76513, 78410, 77064, 76262, 76010, 79911, 78801, 76112, 77092, 77471, 76177, 79930, 79765, 75402, 75228, 76053, 77539, 78222, 77060, 78237, 78363, 79412, 78250, 76179, 78253, 77493, 79924, 78256, 78064, 77515, 79703, 78610, 75207, 76006, 77062, 77488, 78235, 78620, 77035, 75227, 78023, 77059, 79072, 76182, 78582, 79414, 77477, 77040, 75094, 75142, 76115, 77502, 77099, 76016, 77017, 79065, 78382, 76087, 78633, 78132, 77067, 77406, 78227, 75951, 76049, 79107, 77396, 77356, 76067, 75154, 76114, 77301, 77091, 77365, 78114, 78945, 76901, 78374, 75209, 78730, 78586, 75604, 77011, 77571, 76528, 77009, 76226, 76450, 78102, 79907, 79602, 76227, 77075, 76208, 77020, 77979, 75146, 78245, 75662, 78634, 77536, 78934, 79401, 75068, 78415, 75652, 79015, 77039, 75060, 76039, 77080, 79928, 77022, 76574, 77437, 76008, 78611, 75229, 78148, 78070, 78744, 76522, 75462, 75050, 78552, 79706, 79556, 77498, 79336, 78737, 75418, 78726, 78150, 75103, 77705, 78729, 77377, 78644, 75238, 79714, 77068, 75215, 78418, 75901, 77088, 78254, 77003, 78009, 78589, 77657, 76111, 77029, 77551, 76384, 76148, 75551, 78537, 76106, 77073, 78728, 75156, 79007, 78653, 77590, 75935, 77049, 76705, 76164, 79029, 76711, 76126, 76103, 77656, 78260, 75137, 76119, 77474, 77532, 76108, 79932, 77954, 78163, 77045, 78043, 75771, 79549, 77651, 79201, 77373, 77868, 78676, 75762, 78109, 79404, 76036, 78629, 79331, 77041, 75089, 77506, 77093, 78040, 78732, 76501, 78722, 76645, 79101, 77037, 76309, 75494, 76131, 79121, 77044, 78516, 77046, 79904, 77957, 75036, 75009, 79735, 76667, 75633, 76043, 78108, 76311, 76550, 76117, 77523, 77071, 79103, 78210, 78580, 76001, 77031, 79360, 78541, 75644, 75454, 76701, 77028, 77086, 77807, 76706, 76424, 79607, 76692, 78754, 78861, 76002, 78336, 77535, 76123, 78261, 76426, 75791, 75835, 76134, 77619, 78573, 78542, 79045, 75048, 76247, 78642, 76052, 76120, 75686, 76442, 75773, 77843, 78026, 77575, 77061, 76105, 75212, 78380, 76643, 76207, 79604, 77578, 78643, 76058, 79070, 78239, 75409, 75189, 76209, 78202, 76634, 76230, 77995, 77066, 77012, 75979, 76448, 78225, 76908, 78957, 75233, 78645, 76252, 76567, 76642, 77486, 77611, 77210, 77345, 79772, 78244, 75495, 77013, 78942, 77489, 77316, 78621, 78570, 76531, 76258, 78255, 77586, 78046, 79901, 75072, 79316, 77441, 78648, 75785, 78739, 79022, 76661, 78599, 78419, 77568, 76140, 77510, 75840, 78014, 75707, 75232, 77964, 75180, 78003, 77484, 77713, 78121, 77418, 77530, 77583, 78015, 79764, 77545, 79241, 75948, 75065, 79922, 78834, 77708, 75181, 78266, 78416, 77355, 76902, 76825, 75054, 77085, 77051, 77038, 76266, 76657, 78061, 76367, 75647, 77703, 78559, 79906, 78208, 79118, 77836, 79102, 75143, 77662, 76005, 78119, 77587, 77864, 77010, 76380, 76273, 76541, 75570, 79510, 77565, 78578, 79603, 79927, 79830, 75159, 77357, 77517, 75407, 77033, 78574, 78013, 78566, 77541, 75428, 76354, 76444, 75654, 76821, 79347, 75241, 75373, 75202, 75972, 78408, 78639, 78543, 76950, 75114, 79760, 79756, 78669, 76374, 79323, 76571, 75265, 78263, 75783, 77503, 79916, 78560, 78839, 78204, 77665, 75757, 76802, 75442, 77016, 79035, 76844, 76458, 79934, 78636, 79918, 79364, 76520, 76655, 79745, 75752, 75266, 77554, 75862, 78387, 77518, 77303, 76704, 76023, 75563, 79782, 75672, 77423, 79512, 77480, 77461, 79373, 77905, 77434, 78401, 77808, 76082, 75147, 75169, 78118, 78355, 77362, 78076, 78052, 75602, 75657, 78063, 77378, 79339, 75426, 79252, 76031, 79088, 77984, 76849, 75964, 77514, 75210, 77632, 79501, 79704, 78133, 75457, 75704, 76437, 76118, 78657, 78242, 77216, 75975, 77032, 75452, 77562, 78962, 77625, 75559, 76446, 78747, 76691, 75140, 76050, 79567, 75949, 76127, 78733, 78362, 76019, 77445, 76834, 79731, 75956, 76161, 75941, 79235, 76009, 78843, 76877, 78597, 77643, 75167, 76255, 75758, 75474, 75166, 75668, 75125, 79553, 78736, 76059, 78017, 76905, 78164, 78956, 78417, 79068, 79382, 77962, 78024, 78219, 76365, 78264, 75440, 75711, 77336, 77435, 75860, 79778, 77318, 78373, 76430, 77803, 79838, 77963, 77372, 79546, 75706, 79329, 78557, 75931, 76249, 78377, 75571, 77053, 79110, 78724, 76199, 78368, 75763, 76577, 77563, 78617, 79821, 75803, 79835, 78226, 78502, 76689, 76443, 77531, 77465, 78584, 79226, 78016, 79079, 75845, 78025, 78605, 75638, 75446, 79356, 78606, 75568, 77360, 77320, 79014, 78071, 75765, 77801, 79322, 77968, 79521, 79225, 75789, 79159, 79081, 78160, 76060, 76537, 79363, 77805, 75839, 79036, 79541, 79371, 79016, 76823, 77305, 76366, 77871, 78142, 78288, 76088, 76554, 78361, 76066, 75886, 77447, 75713, 75650, 76272, 77622, 79041, 75491, 77422, 75320, 78575, 79734, 77331, 76259, 70501, 78390, 78881, 75567, 78203, 79536, 79562, 77446, 75185, 77487, 75223, 75640, 75693, 75249, 78721, 76483, 78523, 76085, 79502, 79408, 75681, 75117, 75148, 75705, 77615, 77859, 75790, 76943, 79855, 75709, 79843, 76360, 76932, 75606, 76664, 78343, 79520, 75608, 75671, 77842, 75691, 76084, 79403, 78466, 75756, 78379, 77371, 79346, 78010, 76457, 79411, 78291, 78505, 78044, 76598, 78623, 77001, 79229, 75308, 79836, 75925, 77225, 79366, 76233, 76627, 75008, 77881, 78299, 77612, 74429, 79566, 79108, 75275, 75261, 76026, 75962, 75980, 79019, 75253, 75930, 76547, 78838, 78842, 76560, 78018, 75968, 75026, 78381, 76941, 77865, 79618, 75755, 77659, 78460, 77399, 33606, 78144, 75403, 78101, 75163, 26109, 77564, 78538, 78691, 79968, 77589, 76804, 76351, 75258, 75021, 79849, 79563, 75109, 78941, 78947, 75656, 77413, 73069, 75456, 79351, 79086, 76371, 78372, 78297, 79504, 79311, 76837, 77592, 78243, 78065, 77462, 75151, 75389, 76470, 87606, 75929, 76934, 75851, 78755, 18154, 75903, 77522, 78358, 78631, 78341, 78583, 79910, 75076, 78269, 75047, 79490, 78719, 76475, 94533, 76632, 24014, 77561, 75926, 75833, 75554, 78147, 78650, 75846, 76225, 76511, 75669, 76653, 75932, 78124, 75792, 75560, 78241, 78652, 76890, 75692, 75391, 76196, 75556, 75969, 75257, 77572, 75974, 75339, 70030, 78619, 77348, 76229, 76165, 78407, 76433, 75939, 77254, 77508, 76471, 75161, 75667, 76454, 75946, 75645, 75179, 75424, 79096, 78409, 78357, 77547, 79913, 75379, 78725, 75459, 78324, 78002, 78027, 79543, 78393, 79908, 76155, 45229, 78298, 96240, 76859, 77872, 75414, 79752, 77253, 76951, 78593, 76856, 76875, 75091, 78117, 76633, 78853, 75158, 95601, 77078, 76041, 78883, 78069, 78576, 76693, 79027, 78627, 76306, 76878, 78283, 75603, 78268, 76570, 75684, 75944, 76078, 78671, 78832, 79409, 76559, 78284, 77050, 75152])"
      ]
     },
     "execution_count": 51,
     "metadata": {},
     "output_type": "execute_result"
    }
   ],
   "source": []
  },
  {
   "cell_type": "code",
   "execution_count": null,
   "metadata": {},
   "outputs": [],
   "source": [
    "# for doctor in doctorIDs['covered_recipient_profile_id']:\n",
    "#     doctorSearch(doctor)\n",
    "\n",
    "recordsDF = ''\n",
    "for i in range(0,5):\n",
    "    if i%100==0:\n",
    "        print(i)\n",
    "    if i==0:\n",
    "        recordsDF = doctorSearch(doctorIDs.loc[i])\n",
    "    else:\n",
    "        recordsDF=recordsDF.append(doctorSearch(doctorIDs.loc[i]))\n",
    "    \n",
    "\n",
    "# The new combined dataframe should mark the transactions, their source zipcode,  their professions,and ids\n",
    "\n",
    "\n"
   ]
  },
  {
   "cell_type": "code",
   "execution_count": null,
   "metadata": {},
   "outputs": [],
   "source": [
    "recordsDF\n",
    "recordsDF.to_csv('Texas Records Data.csv')"
   ]
  },
  {
   "cell_type": "markdown",
   "metadata": {},
   "source": []
  }
 ],
 "metadata": {
  "interpreter": {
   "hash": "73e99867994bed8ab4e3fb143e1a9c0a09df8739f443cc6ab33630cda57eb163"
  },
  "kernelspec": {
   "display_name": "Python 3.9.6 64-bit",
   "language": "python",
   "name": "python3"
  },
  "language_info": {
   "codemirror_mode": {
    "name": "ipython",
    "version": 3
   },
   "file_extension": ".py",
   "mimetype": "text/x-python",
   "name": "python",
   "nbconvert_exporter": "python",
   "pygments_lexer": "ipython3",
   "version": "3.9.6"
  },
  "orig_nbformat": 4
 },
 "nbformat": 4,
 "nbformat_minor": 2
}
